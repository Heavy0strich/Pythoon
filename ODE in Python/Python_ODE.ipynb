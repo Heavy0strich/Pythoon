{
 "cells": [
  {
   "cell_type": "markdown",
   "id": "bdf18e6a",
   "metadata": {},
   "source": [
    "## Discrete Calculus in Python\n",
    "\n",
    "Suppose we want to plot sin(x), where $x\\space\\epsilon\\space[0,2\\pi]$<br>\n",
    "We define a set of x values, and associate these set of values to sin(x)<br>\n",
    "we define $x_i = ih$, where $i = 0, 1,....,n$ and (step length) h = $2\\pi/n$<br>\n",
    "Now the associated values of the sin(x) will be,<br>\n",
    "$S_i = sin(x_i)$, where $i = 0, 1,....,n$<br>\n",
    "\n",
    "So we have a sequence of points, $(x_i, S_i)|_{i = 0}^{i=n}$<br>\n",
    "n = mesh resolution, if we have high n, we have many points, and thus high resolution"
   ]
  },
  {
   "cell_type": "code",
   "execution_count": 41,
   "id": "5ec67453",
   "metadata": {},
   "outputs": [],
   "source": [
    "import numpy as np\n",
    "from matplotlib import pyplot as plt\n",
    "import sys"
   ]
  },
  {
   "cell_type": "code",
   "execution_count": 42,
   "id": "74317975",
   "metadata": {},
   "outputs": [],
   "source": [
    "#n = int(sys.argv[1])       #Command line arguments are those values that are passed during calling of program \n",
    "                           #along with the calling statement. Thus, the first element of the array sys.argv() \n",
    "                           #is the name of the program itself. sys.argv() is an array for command line arguments\n",
    "                           #in Python. To employ this module named “sys” is used. sys.argv is similar to an \n",
    "                           #array and the values are also retrieved like Python array."
   ]
  },
  {
   "cell_type": "code",
   "execution_count": 43,
   "id": "78b12b3f",
   "metadata": {},
   "outputs": [
    {
     "name": "stdout",
     "output_type": "stream",
     "text": [
      "Enter the resolution: 50\n"
     ]
    }
   ],
   "source": [
    "n = int(input(\"Enter the resolution: \"))"
   ]
  },
  {
   "cell_type": "code",
   "execution_count": 44,
   "id": "79226b30",
   "metadata": {},
   "outputs": [],
   "source": [
    "x = np.linspace(0, 2*np.pi, n+1)\n",
    "s = np.sin(x)"
   ]
  },
  {
   "cell_type": "code",
   "execution_count": 45,
   "id": "20350ce3",
   "metadata": {},
   "outputs": [
    {
     "data": {
      "image/png": "[encoded data removed]",
      "text/plain": [
       "<Figure size 432x288 with 1 Axes>"
      ]
     },
     "metadata": {
      "needs_background": "light"
     },
     "output_type": "display_data"
    }
   ],
   "source": [
    "#Plotting\n",
    "\n",
    "plt.plot(x,s, label = f\"n = {n}\")\n",
    "plt.legend()\n",
    "plt.show()"
   ]
  },
  {
   "cell_type": "markdown",
   "id": "3dc8701c",
   "metadata": {},
   "source": [
    "### Finding the values between the node(interpolation)\n",
    "\n",
    "Assume, you have some $x \\space \\epsilon \\space [x_k, x_{k+1}]$<br>\n",
    "We have a linear function passing through $(x_k, s_k)\\space -->\\space (x_{k+1}, s_{k+1})$<br>\n",
    "\n",
    "Linear approximation between the node$(x_k, x_{k+1})$ is given by:-\n",
    "$s_j(x) = s_k + \\frac{s_{k+1} - s_k}{x_{k+1} - x_k} (x - x_k)$ where $j\\space \\epsilon\\space(k, k+1)$<br>\n",
    "\n",
    "The above is a simple Linear approximation, which will work when the resolution is high"
   ]
  },
  {
   "cell_type": "code",
   "execution_count": 46,
   "id": "5800d45b",
   "metadata": {},
   "outputs": [
    {
     "name": "stdout",
     "output_type": "stream",
     "text": [
      "3.69\n"
     ]
    }
   ],
   "source": [
    "xp = eval(input())# the x from where we are starting are interpolation"
   ]
  },
  {
   "cell_type": "code",
   "execution_count": 47,
   "id": "1398ccc7",
   "metadata": {},
   "outputs": [
    {
     "name": "stdout",
     "output_type": "stream",
     "text": [
      "Enter the resolution: 25\n"
     ]
    }
   ],
   "source": [
    "n = int(input(\"Enter the resolution: \"))"
   ]
  },
  {
   "cell_type": "code",
   "execution_count": 48,
   "id": "25488e5c",
   "metadata": {},
   "outputs": [],
   "source": [
    "def S_k(k):\n",
    "    return s[k] + ((s[k+1] - s[k])/(x[k+1] - x[k]))*(xp - x[k])"
   ]
  },
  {
   "cell_type": "code",
   "execution_count": 49,
   "id": "27a50dc7",
   "metadata": {},
   "outputs": [
    {
     "name": "stdout",
     "output_type": "stream",
     "text": [
      "Approximation of sin(3.69) = -0.5179427051075658\n",
      "Exact Value of sin(3.69) = -0.5213287903544065\n",
      "Error = -0.0033860852468406977\n"
     ]
    }
   ],
   "source": [
    "h = 2*np.pi/n      #step size\n",
    "x = np.linspace(0, 2*np.pi, n+1)\n",
    "s = np.sin(x)\n",
    "k = int(xp/h)      # will give the nearest index from the current set of data points to xp\n",
    "\n",
    "print(f\"Approximation of sin({xp}) = {S_k(k)}\")\n",
    "print(f\"Exact Value of sin({xp}) = {np.sin(xp)}\")\n",
    "print(f\"Error = {np.sin(xp) - S_k(k)}\")"
   ]
  },
  {
   "cell_type": "code",
   "execution_count": 50,
   "id": "6bd08491",
   "metadata": {},
   "outputs": [
    {
     "data": {
      "text/plain": [
       "26"
      ]
     },
     "execution_count": 50,
     "metadata": {},
     "output_type": "execute_result"
    }
   ],
   "source": [
    "len(x)"
   ]
  },
  {
   "cell_type": "markdown",
   "id": "88cf2d88",
   "metadata": {},
   "source": [
    "## Solving ODEs in Python\n",
    "\n",
    "We are trying to solve equation of the type $\\dot{x} = f(x(t), t)$ where $u(0) = u_0$\n",
    "\n",
    "Examples:-<br>\n",
    "$y^2\\dot{y} = x,\\space y(0) = y_0$\n"
   ]
  },
  {
   "cell_type": "markdown",
   "id": "275e2b4a",
   "metadata": {},
   "source": [
    "### Methods to solve differential Equation\n",
    "#### 1.) Forward Euler\n",
    "\n",
    "The idea is to approximate the derivative by one sided forward difference.\n",
    "$$\\dot{u(t_k)} = \\frac{u(t_{k+1}) - u(t_k)}{\\Delta{t}}$$<br>\n",
    "$$f(u_k,t_k) = \\frac{u_{k+1} - u_k}{\\Delta{t}}$$<br>\n",
    "$$u_{k+1} = u_k + f(u_k,t_k) \\Delta{t}\\tag{Forward Euler}$$<br>\n",
    "\n",
    "So if we want to comput $u_1$, we need $u_0$, so that we can compute $u_1 = u_0 + \\Delta{t}\\space f(u_0, t_0)$<br>\n",
    "thus, $u_{k+1} = u_k + \\Delta{t}\\space f(u_k, t_k)$<br>\n",
    "and, $t_k = k \\Delta{t}, \\space k = 1,....,n$, where n is the resolution<br>\n",
    "Input Required: $f, U_0, T(Stopping time)$, because we will stop at $T = n \\Delta{t}$<br>\n",
    "ouput: $U_1, U_1,...$ and time steps $t_1, t_2, ...$"
   ]
  },
  {
   "cell_type": "code",
   "execution_count": 51,
   "id": "021dff3a",
   "metadata": {},
   "outputs": [],
   "source": [
    "def forward_euler(f, u0, T, step):\n",
    "    \"\"\"Solve u' = f(u,t), u(0) = u0, with n steps until T\"\"\"\n",
    "    t = [0]\n",
    "    u = [u0]\n",
    "    i = 0\n",
    "    while i <= T:\n",
    "        u1 = u0 + f(u0, i) * step\n",
    "        i += step\n",
    "        u.append(u1)\n",
    "        t.append(i)\n",
    "        u0 = u1\n",
    "    \n",
    "    return u, t"
   ]
  },
  {
   "cell_type": "code",
   "execution_count": 60,
   "id": "504f941d",
   "metadata": {},
   "outputs": [
    {
     "data": {
      "text/plain": [
       "Text(0, 0.5, '$e^x$')"
      ]
     },
     "execution_count": 60,
     "metadata": {},
     "output_type": "execute_result"
    },
    {
     "data": {
      "image/png": "[encoded data removed]",
      "text/plain": [
       "<Figure size 432x288 with 1 Axes>"
      ]
     },
     "metadata": {
      "needs_background": "light"
     },
     "output_type": "display_data"
    }
   ],
   "source": [
    "f = lambda u,t: u\n",
    "\n",
    "for i in [5, 10, 15, 100]:\n",
    "    u, t = forward_euler(f, u0 = 1, T = 4, step = 4/i)\n",
    "    plt.plot(t, u, linestyle = \"dashed\", label = f\"n = {i}\")\n",
    "\n",
    "#Plotting the exact curve\n",
    "t_exact = np.linspace(0, 4, 100)\n",
    "plt.plot(t_exact, np.exp(t_exact), label = \"Exact\")\n",
    "plt.legend()\n",
    "plt.xlabel(\"time\")\n",
    "plt.ylabel(\"$e^x$\")"
   ]
  },
  {
   "cell_type": "markdown",
   "id": "b8a7b0ab",
   "metadata": {},
   "source": [
    "#### 2) Backward Euler\n",
    "$$u_{k+1} = u_k + \\Delta{t} f(u_{k+1}, t_{k+1})$$\n",
    "\n",
    "This method requires more effort to solve for $u_{k+1}$ as it appears on both the sides of the equation."
   ]
  },
  {
   "cell_type": "code",
   "execution_count": 131,
   "id": "db7adbea",
   "metadata": {},
   "outputs": [],
   "source": [
    "from scipy.optimize import fsolve\n",
    "def backward_euler(f, u0, T, n):\n",
    "    \"\"\"solve u' = f(u,t), u(0) = u0, with n steps untill T\"\"\"\n",
    "    t = np.zeros(n+1)\n",
    "    u = np.zeros(n+1)\n",
    "    t[0] = 0\n",
    "    u[0] = u0\n",
    "    step = T/n\n",
    "    for i in range(n):\n",
    "        t[i+1] = t[i] + step\n",
    "        G = lambda x: x - u[i] - (f(x, t[i+1]) * step)\n",
    "        #print(G)\n",
    "        u[i+1] = fsolve(G, 100)\n",
    "        \n",
    "    return u, t"
   ]
  },
  {
   "cell_type": "code",
   "execution_count": 132,
   "id": "f75fbb18",
   "metadata": {},
   "outputs": [
    {
     "data": {
      "text/plain": [
       "Text(0, 0.5, '$e^x$')"
      ]
     },
     "execution_count": 132,
     "metadata": {},
     "output_type": "execute_result"
    },
    {
     "data": {
      "image/png": "[encoded data removed]",
      "text/plain": [
       "<Figure size 432x288 with 1 Axes>"
      ]
     },
     "metadata": {
      "needs_background": "light"
     },
     "output_type": "display_data"
    }
   ],
   "source": [
    "f = lambda u,t: u\n",
    "\n",
    "for i in [10, 15, 100]:\n",
    "    u_be, t = backward_euler(f, 1, 5, i)\n",
    "    plt.plot(t, u_be, linestyle = \"dashed\", label = f\"n = {i}\")\n",
    "\n",
    "#Plotting the exact curve\n",
    "t_exact = np.linspace(0, 4, 100)\n",
    "plt.plot(t_exact, np.exp(t_exact), label = \"Exact\")\n",
    "plt.legend()\n",
    "plt.xlabel(\"time\")\n",
    "plt.ylabel(\"$e^x$\")"
   ]
  },
  {
   "cell_type": "code",
   "execution_count": 134,
   "id": "40aba405",
   "metadata": {},
   "outputs": [
    {
     "data": {
      "image/png": "[encoded data removed]",
      "text/plain": [
       "<Figure size 432x288 with 1 Axes>"
      ]
     },
     "metadata": {
      "needs_background": "light"
     },
     "output_type": "display_data"
    }
   ],
   "source": [
    "#Comparing Backward, forward and exactfor n = 100\n",
    "u_fe, t_fe = forward_euler(f, u0 = 1, T = 4, step = 4/100)\n",
    "u_be, t_be = backward_euler(f, 1, 4, 100)\n",
    "plt.plot(t_fe, u_fe, linestyle=\"dashed\", label=\"Forward Euler\")\n",
    "plt.plot(t_be, u_be, linestyle = \"dashed\", label = \"Backward Euler\")\n",
    "plt.plot(t_fe, np.exp(t_fe), label = \"Exact\")\n",
    "plt.legend()\n",
    "plt.show()"
   ]
  },
  {
   "cell_type": "code",
   "execution_count": 100,
   "id": "549a8fed",
   "metadata": {},
   "outputs": [
    {
     "data": {
      "text/plain": [
       "15"
      ]
     },
     "execution_count": 100,
     "metadata": {},
     "output_type": "execute_result"
    }
   ],
   "source": [
    "f(5)"
   ]
  },
  {
   "cell_type": "code",
   "execution_count": 101,
   "id": "f46fda5a",
   "metadata": {},
   "outputs": [
    {
     "data": {
      "text/plain": [
       "array([0.])"
      ]
     },
     "execution_count": 101,
     "metadata": {},
     "output_type": "execute_result"
    }
   ],
   "source": [
    "x"
   ]
  },
  {
   "cell_type": "code",
   "execution_count": null,
   "id": "14ee17a0",
   "metadata": {},
   "outputs": [],
   "source": []
  }
 ],
 "metadata": {
  "kernelspec": {
   "display_name": "Python 3",
   "language": "python",
   "name": "python3"
  },
  "language_info": {
   "codemirror_mode": {
    "name": "ipython",
    "version": 3
   },
   "file_extension": ".py",
   "mimetype": "text/x-python",
   "name": "python",
   "nbconvert_exporter": "python",
   "pygments_lexer": "ipython3",
   "version": "3.8.8"
  }
 },
 "nbformat": 4,
 "nbformat_minor": 5
}
