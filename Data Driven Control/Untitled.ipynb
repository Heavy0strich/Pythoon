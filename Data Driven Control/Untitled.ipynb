{
 "cells": [
  {
   "cell_type": "code",
   "execution_count": 1,
   "id": "d6fdc26b",
   "metadata": {},
   "outputs": [],
   "source": [
    "import numpy as np\n",
    "from matplotlib import pyplot as plt"
   ]
  },
  {
   "cell_type": "markdown",
   "id": "2b044630",
   "metadata": {},
   "source": [
    "## Polynomial Data Fitting\n",
    "\n",
    "Here we will try to fit a polynomial to m given data points and then test the coefficients that we get for different set of values \n",
    "We will generate data using the following polynomial\n",
    "$$p(x) = 5x^3 + 3x^2 - 2x + 9 + \\eta$$\n",
    "where, $\\eta$ is a noise factor"
   ]
  },
  {
   "cell_type": "code",
   "execution_count": 3,
   "id": "efd256d1",
   "metadata": {},
   "outputs": [],
   "source": [
    "# generating a dataset\n",
    "m = 20\n",
    "np.random.seed(25)\n",
    "\n",
    "# generating data points for training\n",
    "x = np.linspace(-1,1,m)\n",
    "y = 5*x**3 + 3*x**2 - 2*x + 9 + np.random.rand(20)\n",
    "\n",
    "\n",
    "# Making the test data\n",
    "x_test = np.linspace(-1,1,50)\n",
    "y_test = 5*x_test**3 + 3*x_test**2 - 2*x_test + 9 + np.random.rand(50)\n"
   ]
  },
  {
   "cell_type": "markdown",
   "id": "6edd553d",
   "metadata": {},
   "source": [
    "We will try to fit the data into a ploynomial of degree n-1, where n < m\n",
    "$$P(x) = c_0 + c_1x + c_2x^2 + ...+ c_{n-1}x^{n-1}$$\n",
    "\n",
    "WE are trying to create the following matrix\n",
    "\n",
    "$$\\begin{bmatrix}1 & x_1 & x_1^2 & \\dots&x_1^{n-1}\\\\ 1 & x_2 & x_2^2 & \\dots&x_2^{n-1}\\\\ \\vdots & \\vdots &\\vdots &\\ddots & \\vdots  \\\\1 & x_m & x_m^2 & \\dots &x_m^{n-1} \\end{bmatrix} \\begin{bmatrix} c_0 \\\\ c_1\\\\ c_2\\\\ \\vdots \\\\ c_{n-1} \\end{bmatrix} = \\begin{bmatrix} y_1 \\\\ y_2 \\\\ y_3 \\\\ \\vdots \\\\ y_m \\end{bmatrix}$$"
   ]
  },
  {
   "cell_type": "code",
   "execution_count": 24,
   "id": "ccac384a",
   "metadata": {},
   "outputs": [],
   "source": [
    "def poly_plot(c):\n",
    "    deg = c.shape[0]\n",
    "    N = 100\n",
    "    xx = np.linspace(-1,1,N)\n",
    "    vde = np.zeros((N, len(c)))\n",
    "    for i in range(deg):\n",
    "        vde[:, i] = xx**i\n",
    "        \n",
    "    out = vde @ c\n",
    "    plt.plot(xx, out)"
   ]
  },
  {
   "cell_type": "code",
   "execution_count": 25,
   "id": "871b51d0",
   "metadata": {},
   "outputs": [],
   "source": [
    "n = 20\n",
    "Vde = np.zeros((m,n))\n",
    "for i in range(n):\n",
    "    Vde[:,i] = x**i\n",
    "    \n",
    "c = []\n",
    "c = np.linalg.lstsq(Vde, y, rcond = None) # making rcond = None will not show the warning"
   ]
  },
  {
   "cell_type": "code",
   "execution_count": 26,
   "id": "8a6e1e23",
   "metadata": {},
   "outputs": [
    {
     "data": {
      "text/plain": [
       "<matplotlib.collections.PathCollection at 0x7fd84580bf10>"
      ]
     },
     "execution_count": 26,
     "metadata": {},
     "output_type": "execute_result"
    },
    {
     "data": {
      "image/png": "[encoded data removed]",
      "text/plain": [
       "<Figure size 432x288 with 1 Axes>"
      ]
     },
     "metadata": {
      "needs_background": "light"
     },
     "output_type": "display_data"
    }
   ],
   "source": [
    "poly_plot(c[0])\n",
    "plt.scatter(x,y)"
   ]
  },
  {
   "cell_type": "code",
   "execution_count": 27,
   "id": "2b2ec3ae",
   "metadata": {
    "scrolled": true
   },
   "outputs": [
    {
     "name": "stdout",
     "output_type": "stream",
     "text": [
      "\u001b[H\u001b[2J"
     ]
    }
   ],
   "source": []
  },
  {
   "cell_type": "code",
   "execution_count": null,
   "id": "4a40ff64",
   "metadata": {},
   "outputs": [],
   "source": []
  }
 ],
 "metadata": {
  "kernelspec": {
   "display_name": "Python 3",
   "language": "python",
   "name": "python3"
  },
  "language_info": {
   "codemirror_mode": {
    "name": "ipython",
    "version": 3
   },
   "file_extension": ".py",
   "mimetype": "text/x-python",
   "name": "python",
   "nbconvert_exporter": "python",
   "pygments_lexer": "ipython3",
   "version": "3.8.8"
  }
 },
 "nbformat": 4,
 "nbformat_minor": 5
}
