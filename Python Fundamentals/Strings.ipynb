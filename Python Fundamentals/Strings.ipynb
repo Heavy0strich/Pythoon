{
 "cells": [
  {
   "cell_type": "markdown",
   "id": "58a09d4c",
   "metadata": {},
   "source": [
    "# Strings\n",
    "\n",
    "* strings are a sequence of characters. The double quotes or single quote indicate the start and end of the sequence of characters"
   ]
  },
  {
   "cell_type": "code",
   "execution_count": 1,
   "id": "bfae65af",
   "metadata": {},
   "outputs": [
    {
     "data": {
      "text/plain": [
       "True"
      ]
     },
     "execution_count": 1,
     "metadata": {},
     "output_type": "execute_result"
    }
   ],
   "source": [
    "#String using single quote\n",
    "str1 = \"This is a string\"\n",
    "\n",
    "#String using double quotes\n",
    "str2 = \"This is a string\"\n",
    "\n",
    "str1 == str2 "
   ]
  },
  {
   "cell_type": "markdown",
   "id": "13a54da6",
   "metadata": {},
   "source": [
    "* You can write the string in single or double quotes. They are same\n",
    "\n",
    "* For multiline strings, we use triple quotes (\"\"\"...\"\"\")"
   ]
  },
  {
   "cell_type": "code",
   "execution_count": 4,
   "id": "30e858ee",
   "metadata": {},
   "outputs": [
    {
     "name": "stdout",
     "output_type": "stream",
     "text": [
      "Hey there!!\n",
      "how are you doing?\n",
      "I am good.\n"
     ]
    }
   ],
   "source": [
    "str3 = \"\"\"Hey there!!\n",
    "how are you doing?\n",
    "I am good.\"\"\"\n",
    "print(str3)"
   ]
  },
  {
   "cell_type": "markdown",
   "id": "2bd3aef5",
   "metadata": {},
   "source": [
    "## 1) String Formatting\n",
    "\n",
    "### a) format()"
   ]
  },
  {
   "cell_type": "code",
   "execution_count": 6,
   "id": "0eba2ca4",
   "metadata": {},
   "outputs": [],
   "source": [
    "#declaring two variables\n",
    "first_name = 'Rose'\n",
    "last_name = 'Mary'"
   ]
  },
  {
   "cell_type": "code",
   "execution_count": 8,
   "id": "e61e1057",
   "metadata": {},
   "outputs": [
    {
     "name": "stdout",
     "output_type": "stream",
     "text": [
      "Hello! I am Ms Rose Mary\n"
     ]
    }
   ],
   "source": [
    "#Print using format function\n",
    "print('Hello! I am Ms {} {}'.format(first_name,last_name))"
   ]
  },
  {
   "cell_type": "markdown",
   "id": "7722e689",
   "metadata": {},
   "source": [
    "* We use number inside the paranthesis, when we have to use the same value more than once. For example in the below case, we want to use the last_name twice in a string.\n",
    "\n",
    "* If using numbering, then you have to number all the curly braces or else you will get the below error:\n",
    "ValueError                                Traceback (most recent call last)\n",
    "<ipython-input-12-9589e77deaff> in <module>\n",
    "      2 print('Hello! I am Ms {0} {1}. {1} is my last name'.format(first_name,last_name))\n",
    "      3 \n",
    "----> 4 print('Hello! I am Ms {} {}. {1} is my last name'.format(first_name,last_name))\n",
    "\n",
    "ValueError: cannot switch from automatic field numbering to manual field specification"
   ]
  },
  {
   "cell_type": "code",
   "execution_count": 12,
   "id": "7b2ee788",
   "metadata": {},
   "outputs": [
    {
     "name": "stdout",
     "output_type": "stream",
     "text": [
      "Hello! I am Ms Rose Mary. Mary is my last name\n"
     ]
    },
    {
     "ename": "ValueError",
     "evalue": "cannot switch from automatic field numbering to manual field specification",
     "output_type": "error",
     "traceback": [
      "\u001b[0;31m---------------------------------------------------------------------------\u001b[0m",
      "\u001b[0;31mValueError\u001b[0m                                Traceback (most recent call last)",
      "\u001b[0;32m<ipython-input-12-9589e77deaff>\u001b[0m in \u001b[0;36m<module>\u001b[0;34m\u001b[0m\n\u001b[1;32m      2\u001b[0m \u001b[0mprint\u001b[0m\u001b[0;34m(\u001b[0m\u001b[0;34m'Hello! I am Ms {0} {1}. {1} is my last name'\u001b[0m\u001b[0;34m.\u001b[0m\u001b[0mformat\u001b[0m\u001b[0;34m(\u001b[0m\u001b[0mfirst_name\u001b[0m\u001b[0;34m,\u001b[0m\u001b[0mlast_name\u001b[0m\u001b[0;34m)\u001b[0m\u001b[0;34m)\u001b[0m\u001b[0;34m\u001b[0m\u001b[0;34m\u001b[0m\u001b[0m\n\u001b[1;32m      3\u001b[0m \u001b[0;34m\u001b[0m\u001b[0m\n\u001b[0;32m----> 4\u001b[0;31m \u001b[0mprint\u001b[0m\u001b[0;34m(\u001b[0m\u001b[0;34m'Hello! I am Ms {} {}. {1} is my last name'\u001b[0m\u001b[0;34m.\u001b[0m\u001b[0mformat\u001b[0m\u001b[0;34m(\u001b[0m\u001b[0mfirst_name\u001b[0m\u001b[0;34m,\u001b[0m\u001b[0mlast_name\u001b[0m\u001b[0;34m)\u001b[0m\u001b[0;34m)\u001b[0m\u001b[0;34m\u001b[0m\u001b[0;34m\u001b[0m\u001b[0m\n\u001b[0m",
      "\u001b[0;31mValueError\u001b[0m: cannot switch from automatic field numbering to manual field specification"
     ]
    }
   ],
   "source": [
    "#Print using format function and number inside parantheses\n",
    "print('Hello! I am Ms {0} {1}. {1} is my last name'.format(first_name,last_name))\n",
    "\n",
    "print('Hello! I am Ms {} {}. {1} is my last name'.format(first_name,last_name))"
   ]
  },
  {
   "cell_type": "markdown",
   "id": "4ab30e67",
   "metadata": {},
   "source": [
    "### b) f-strings()\n",
    "* Evaluates at the run time of the program and has a simpler structure compared to format(). Instead of number or using format function, you write the string variable name inside the curly braces.\n",
    "\n",
    "Syntax:-\n",
    "print(**f**'Hello! I am Ms {varibale_name1} {variable_name2}.')\n",
    "\n",
    "**f** is written in front of the string inside the quotes."
   ]
  },
  {
   "cell_type": "code",
   "execution_count": 15,
   "id": "bc4e64a5",
   "metadata": {},
   "outputs": [
    {
     "name": "stdout",
     "output_type": "stream",
     "text": [
      "Hello! I am Ms Rose Mary. Mary is my last name\n"
     ]
    }
   ],
   "source": [
    "#using f-strings for formatting\n",
    "print(f'Hello! I am Ms {first_name} {last_name}. {last_name} is my last name')"
   ]
  },
  {
   "cell_type": "markdown",
   "id": "4af82e3e",
   "metadata": {},
   "source": [
    "## b) String Methods"
   ]
  },
  {
   "cell_type": "code",
   "execution_count": 16,
   "id": "047ebb10",
   "metadata": {},
   "outputs": [
    {
     "data": {
      "text/plain": [
       "'Bollywood'"
      ]
     },
     "execution_count": 16,
     "metadata": {},
     "output_type": "execute_result"
    }
   ],
   "source": [
    "#Using capitalize(): Returns string after converting the first character in uppercase\n",
    "s = 'bollywood'\n",
    "s.capitalize()"
   ]
  },
  {
   "cell_type": "code",
   "execution_count": 17,
   "id": "b0270017",
   "metadata": {},
   "outputs": [
    {
     "data": {
      "text/plain": [
       "'hello'"
      ]
     },
     "execution_count": 17,
     "metadata": {},
     "output_type": "execute_result"
    }
   ],
   "source": [
    "#Using lower(): Returns string after converting all the characters to lowercase\n",
    "s1 = \"HELLO\"\n",
    "s1.lower()"
   ]
  },
  {
   "cell_type": "code",
   "execution_count": 18,
   "id": "a27788f7",
   "metadata": {},
   "outputs": [
    {
     "data": {
      "text/plain": [
       "'HELLO'"
      ]
     },
     "execution_count": 18,
     "metadata": {},
     "output_type": "execute_result"
    }
   ],
   "source": [
    "#Using upper(): Returns string after converting all characters to uppercase\n",
    "s1.lower().upper()"
   ]
  },
  {
   "cell_type": "code",
   "execution_count": 23,
   "id": "c44eeb6a",
   "metadata": {},
   "outputs": [
    {
     "name": "stdout",
     "output_type": "stream",
     "text": [
      "Ram sham Mohan\n"
     ]
    }
   ],
   "source": [
    "#Using join(): which returns the string after concatenating elements of the string with a separator\n",
    "s2 = ['Ram', 'sham', 'Mohan']     #list of strings\n",
    "x = \" \".join(s2)                  # joining the elements of list s2 with space and assinging variable x to it\n",
    "print(x)"
   ]
  },
  {
   "cell_type": "code",
   "execution_count": 25,
   "id": "ade400b2",
   "metadata": {},
   "outputs": [
    {
     "data": {
      "text/plain": [
       "32"
      ]
     },
     "execution_count": 25,
     "metadata": {},
     "output_type": "execute_result"
    }
   ],
   "source": [
    "#Using len(): Returns the length of the string\n",
    "s3 = \"Python is a programming language\"\n",
    "#spaces are also counted as characters\n",
    "len(s3)"
   ]
  },
  {
   "cell_type": "code",
   "execution_count": 28,
   "id": "b46a53d6",
   "metadata": {},
   "outputs": [
    {
     "data": {
      "text/plain": [
       "3"
      ]
     },
     "execution_count": 28,
     "metadata": {},
     "output_type": "execute_result"
    }
   ],
   "source": [
    "#using count(): Returns the number of occurences of a substring\n",
    "s3.count('n')     #the argument can have multiple characters"
   ]
  },
  {
   "cell_type": "code",
   "execution_count": 31,
   "id": "bb2e2d27",
   "metadata": {},
   "outputs": [
    {
     "data": {
      "text/plain": [
       "1"
      ]
     },
     "execution_count": 31,
     "metadata": {},
     "output_type": "execute_result"
    }
   ],
   "source": [
    "#using find(): Returns the index at which the first occurence of the substring is found, else returns -1\n",
    "s3.find('y')"
   ]
  },
  {
   "cell_type": "code",
   "execution_count": 33,
   "id": "899d5190",
   "metadata": {},
   "outputs": [
    {
     "data": {
      "text/plain": [
       "True"
      ]
     },
     "execution_count": 33,
     "metadata": {},
     "output_type": "execute_result"
    }
   ],
   "source": [
    "#Using islower(): Checks if all the characters of the string are lowercase or not. Returns 1 if true else 0\n",
    "s.islower()"
   ]
  },
  {
   "cell_type": "code",
   "execution_count": 36,
   "id": "66340822",
   "metadata": {},
   "outputs": [
    {
     "data": {
      "text/plain": [
       "True"
      ]
     },
     "execution_count": 36,
     "metadata": {},
     "output_type": "execute_result"
    }
   ],
   "source": [
    "#Using isupper(): Checks if all the characters of the string are UPPERCASE or not. Returns 1 if true else 0\n",
    "s1.isupper()"
   ]
  },
  {
   "cell_type": "code",
   "execution_count": 37,
   "id": "b7747906",
   "metadata": {},
   "outputs": [
    {
     "data": {
      "text/plain": [
       "['Python', 'is', 'a', 'programming', 'language']"
      ]
     },
     "execution_count": 37,
     "metadata": {},
     "output_type": "execute_result"
    }
   ],
   "source": [
    "#Using split(): Returns a list of the string after breaking the string by the separator\n",
    "s3.split(\" \")"
   ]
  },
  {
   "cell_type": "code",
   "execution_count": 38,
   "id": "25e52eea",
   "metadata": {},
   "outputs": [
    {
     "data": {
      "text/plain": [
       "['DATA', 'SCIENCE']"
      ]
     },
     "execution_count": 38,
     "metadata": {},
     "output_type": "execute_result"
    }
   ],
   "source": [
    "#using split()\n",
    "s4 = \"DATA+SCIENCE\"\n",
    "s4.split('+')"
   ]
  },
  {
   "cell_type": "code",
   "execution_count": 39,
   "id": "5fd3db22",
   "metadata": {},
   "outputs": [
    {
     "data": {
      "text/plain": [
       "'Lionel Messi'"
      ]
     },
     "execution_count": 39,
     "metadata": {},
     "output_type": "execute_result"
    }
   ],
   "source": [
    "#Using strip(): Removes any extra spaces at the beginning and at the end of the string\n",
    "s5 = \"  Lionel Messi  \"\n",
    "s5.strip()"
   ]
  },
  {
   "cell_type": "markdown",
   "id": "66082a89",
   "metadata": {},
   "source": [
    "## c) User Input\n",
    "\n",
    "* Python provides an inbuilt function: input() which takes input from the user and evaluates it. The input taken from the user is of string data type. One has to convert it to a required data type.\n",
    "\n",
    "* One can pass a string inside the input function providing instruction to the user\n",
    "\n",
    "> eg: input(\"Enter a number: \") "
   ]
  },
  {
   "cell_type": "code",
   "execution_count": 40,
   "id": "1a6c86ef",
   "metadata": {},
   "outputs": [
    {
     "name": "stdout",
     "output_type": "stream",
     "text": [
      "Enter a number: 10\n"
     ]
    }
   ],
   "source": [
    "s = int(input(\"Enter a number: \"))"
   ]
  },
  {
   "cell_type": "code",
   "execution_count": 41,
   "id": "629b1a80",
   "metadata": {},
   "outputs": [
    {
     "name": "stdout",
     "output_type": "stream",
     "text": [
      "10\n"
     ]
    },
    {
     "data": {
      "text/plain": [
       "int"
      ]
     },
     "execution_count": 41,
     "metadata": {},
     "output_type": "execute_result"
    }
   ],
   "source": [
    "print(s)\n",
    "type(s)"
   ]
  },
  {
   "cell_type": "code",
   "execution_count": 45,
   "id": "f95d586a",
   "metadata": {},
   "outputs": [
    {
     "data": {
      "text/plain": [
       "True"
      ]
     },
     "execution_count": 45,
     "metadata": {},
     "output_type": "execute_result"
    }
   ],
   "source": [
    "s1 is s2   # is operator, used for confriming that two strings have the same identity\n",
    "\n",
    "s6 = \"HELLO\"\n",
    "s7 = \"HELLO\"\n",
    "\n",
    "s1 == s6\n",
    "s1 is s6"
   ]
  },
  {
   "cell_type": "code",
   "execution_count": 49,
   "id": "848f4a3a",
   "metadata": {},
   "outputs": [
    {
     "data": {
      "text/plain": [
       "True"
      ]
     },
     "execution_count": 49,
     "metadata": {},
     "output_type": "execute_result"
    }
   ],
   "source": [
    "s1 == s6"
   ]
  },
  {
   "cell_type": "code",
   "execution_count": 51,
   "id": "5493685b",
   "metadata": {},
   "outputs": [
    {
     "data": {
      "text/plain": [
       "True"
      ]
     },
     "execution_count": 51,
     "metadata": {},
     "output_type": "execute_result"
    }
   ],
   "source": [
    "s1 is s6"
   ]
  },
  {
   "cell_type": "code",
   "execution_count": 52,
   "id": "ed338629",
   "metadata": {},
   "outputs": [
    {
     "name": "stdout",
     "output_type": "stream",
     "text": [
      "140331949701552 140331949701552\n"
     ]
    }
   ],
   "source": [
    "print(id(s1), id(s6))"
   ]
  },
  {
   "cell_type": "markdown",
   "id": "f8f7d721",
   "metadata": {},
   "source": [
    "Even though in the above, it seems **is** operator and **==** behave similarly, but they are actually different. Consider the below example:"
   ]
  },
  {
   "cell_type": "code",
   "execution_count": 54,
   "id": "009c5884",
   "metadata": {},
   "outputs": [
    {
     "name": "stdout",
     "output_type": "stream",
     "text": [
      "True\n",
      "False\n"
     ]
    }
   ],
   "source": [
    "v1 = \"Hello\"\n",
    "v2 = \"there\"\n",
    "v3 = \"Hellothere\"\n",
    "\n",
    "print(v1 + v2 == v3)\n",
    "print(v1 + v2 is v3)"
   ]
  },
  {
   "cell_type": "markdown",
   "id": "515ba84d",
   "metadata": {},
   "source": [
    "As you can see in the above example, even though concatenation of **v1 + v2** evaluates to **v3**, comparison with v3 using **==** returns **True** but using **is** returns **False**.\n",
    "\n",
    "Comparison operators ==, !=, <, > <= and >= perform comparison of strings according to lexicographic order of letter. Unicode values of letters in each string are compared one by one. Result of > and < operator depends on Unicode values of letters at index where they are not the same. For example, \"bat\" > \"ball\" returns True, which simply means, first string appears after the second in alphabetical order."
   ]
  },
  {
   "cell_type": "code",
   "execution_count": 47,
   "id": "1676e72b",
   "metadata": {},
   "outputs": [
    {
     "data": {
      "text/plain": [
       "True"
      ]
     },
     "execution_count": 47,
     "metadata": {},
     "output_type": "execute_result"
    }
   ],
   "source": [
    "s2 is not s3"
   ]
  },
  {
   "cell_type": "code",
   "execution_count": 58,
   "id": "1d411f4f",
   "metadata": {},
   "outputs": [
    {
     "name": "stdout",
     "output_type": "stream",
     "text": [
      "False\n",
      "True\n"
     ]
    }
   ],
   "source": [
    "print(s3.istitle())   #Checks if each word in a string begins with a capital letter\n",
    "print(v3.istitle())"
   ]
  }
 ],
 "metadata": {
  "kernelspec": {
   "display_name": "Python 3",
   "language": "python",
   "name": "python3"
  },
  "language_info": {
   "codemirror_mode": {
    "name": "ipython",
    "version": 3
   },
   "file_extension": ".py",
   "mimetype": "text/x-python",
   "name": "python",
   "nbconvert_exporter": "python",
   "pygments_lexer": "ipython3",
   "version": "3.8.8"
  }
 },
 "nbformat": 4,
 "nbformat_minor": 5
}
