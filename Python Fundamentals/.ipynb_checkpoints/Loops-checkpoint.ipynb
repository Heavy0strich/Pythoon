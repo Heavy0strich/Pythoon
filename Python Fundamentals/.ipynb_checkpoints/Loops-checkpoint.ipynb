{
 "cells": [
  {
   "cell_type": "markdown",
   "id": "e2a59b65",
   "metadata": {},
   "source": [
    "# Conditional Statements\n",
    "\n",
    "The Conditional Statements in python allows to perform decision making. The decision making process is done using **if**, **else and elif** statemens\n",
    "\n",
    "### Syntax\n",
    "> if (Condition):\n",
    "     <br>\n",
    ">> statemens\n",
    "\n",
    "statements will be executed if and only if condition in **if** is true"
   ]
  },
  {
   "cell_type": "markdown",
   "id": "178fb06d",
   "metadata": {},
   "source": [
    "## 1) If-elif-else"
   ]
  },
  {
   "cell_type": "code",
   "execution_count": 1,
   "id": "7fbb9836",
   "metadata": {},
   "outputs": [
    {
     "name": "stdout",
     "output_type": "stream",
     "text": [
      "x is greater than 0\n"
     ]
    }
   ],
   "source": [
    "x = 3\n",
    "if (x>0):\n",
    "    print('x is greater than 0')"
   ]
  },
  {
   "cell_type": "code",
   "execution_count": 10,
   "id": "ec92b9c7",
   "metadata": {},
   "outputs": [
    {
     "name": "stdout",
     "output_type": "stream",
     "text": [
      "x = 5 is divisible by 2\n"
     ]
    }
   ],
   "source": [
    "#if you want to do something when the condition is false, we use else statement\n",
    "x = 5\n",
    "if x%2 == 0:           #you may or maynot write the conditions of if statement inside braces\n",
    "    print(\"x = {} is divisible by 2\".format(x))\n",
    "else:\n",
    "    print(\"x = {} is divisible by 2\".format(x))\n",
    "    "
   ]
  },
  {
   "cell_type": "markdown",
   "id": "f1fccf8f",
   "metadata": {},
   "source": [
    "# Loops\n",
    "\n",
    "Used when we want to perform some task in recurring manner. They are used to repeat a specific block of code as and when required\n",
    "\n",
    "**Python provides two ways to execute loops:**<br>\n",
    ">    **1. for loop<br>\n",
    "   2. while loop**\n",
    "    \n",
    "\n",
    "## 1.) for loop\n",
    "\n",
    "for loop is used to iterate over a sequence (list, tupple, string, dictionary)\n",
    "\n",
    "**SYNTAX**<br>\n",
    "for i in sequence:<br>\n",
    "&emsp; body of loop"
   ]
  },
  {
   "cell_type": "code",
   "execution_count": 11,
   "id": "64c5bc0a",
   "metadata": {},
   "outputs": [
    {
     "name": "stdout",
     "output_type": "stream",
     "text": [
      "Delhi\n",
      "Pune\n",
      "Chennai\n",
      "Mumbai\n",
      "Bangalore\n"
     ]
    }
   ],
   "source": [
    "a = [\"Delhi\", \"Pune\", \"Chennai\", \"Mumbai\", \"Bangalore\"]\n",
    "#using loop to display elements of list a\n",
    "for i in a:\n",
    "    print(i)"
   ]
  },
  {
   "cell_type": "code",
   "execution_count": 18,
   "id": "b0a8e03d",
   "metadata": {},
   "outputs": [
    {
     "name": "stdout",
     "output_type": "stream",
     "text": [
      "Enter a name of a city: Delhi\n",
      "Enter a name of a city: Mumbai\n",
      "Enter a name of a city: Kolkata\n",
      "Enter a name of a city: Pune\n",
      "Delhi, Mumbai, Kolkata, Pune."
     ]
    }
   ],
   "source": [
    "#using loop to take user input for adding elements in a list\n",
    "b = []\n",
    "j = 0\n",
    "while j<4:\n",
    "    b.append(input(\"Enter a name of a city: \"))\n",
    "    j += 1\n",
    "\n",
    "# Displaying the elements of a list in a single line\n",
    "i = 0\n",
    "for k in b:\n",
    "    i += 1\n",
    "    if i == len(b):\n",
    "        print(k, end = \".\")\n",
    "    else:\n",
    "        print(k,end = \", \")      # end gives the ability to remove the \\n command that is there at the end after\n",
    "                                 #printing the object \n",
    "    \n"
   ]
  },
  {
   "cell_type": "markdown",
   "id": "44a57631",
   "metadata": {},
   "source": [
    "## 2.) while loop\n",
    "\n",
    "is used when we don't know how many times a block of code has to be repeated\n",
    "\n",
    "**SYNTAX**<br>\n",
    "while test_condition:<br>\n",
    "&emsp;&emsp;    Body of Loop\n"
   ]
  },
  {
   "cell_type": "code",
   "execution_count": 13,
   "id": "8699952e",
   "metadata": {},
   "outputs": [
    {
     "name": "stdout",
     "output_type": "stream",
     "text": [
      "1\n",
      "2\n",
      "3\n",
      "4\n",
      "5\n",
      "Product of entries of c is: 120\n"
     ]
    }
   ],
   "source": [
    "c = [1, 2, 3, 4, 5]\n",
    "i = 0\n",
    "prod = 1\n",
    "while i<len(c):\n",
    "    print(c[i])\n",
    "    prod= prod * c[i]\n",
    "    i += 1\n",
    "print(\"Product of entries of c is: {}\".format(prod))"
   ]
  },
  {
   "cell_type": "markdown",
   "id": "3b74e84b",
   "metadata": {},
   "source": [
    "## 3.) break\n",
    "\n",
    "The **break** keyword is used to break out a for or while loop, as soon as the condition is found to be true. Save the unncessary steps"
   ]
  },
  {
   "cell_type": "code",
   "execution_count": 14,
   "id": "69890520",
   "metadata": {},
   "outputs": [
    {
     "name": "stdout",
     "output_type": "stream",
     "text": [
      "Exiting the loop. Value found\n",
      "No. of steps run = 3\n"
     ]
    }
   ],
   "source": [
    "x = 3\n",
    "steps = 0\n",
    "for i in c:\n",
    "    steps += 1\n",
    "    if x == i:\n",
    "        print(\"Exiting the loop. Value found\")\n",
    "        break\n",
    "print(\"No. of steps run = {}\".format(steps))"
   ]
  },
  {
   "cell_type": "markdown",
   "id": "8473fce7",
   "metadata": {},
   "source": [
    "## 4.) continue\n",
    "\n",
    "Using **continue** statement, we can only skip the current iteration of the loop, and continue with the next."
   ]
  },
  {
   "cell_type": "code",
   "execution_count": 15,
   "id": "ced96383",
   "metadata": {},
   "outputs": [
    {
     "name": "stdout",
     "output_type": "stream",
     "text": [
      "1\n",
      "2\n",
      "3\n",
      "4\n",
      "6\n",
      "7\n",
      "8\n",
      "9\n"
     ]
    }
   ],
   "source": [
    "for i in range(1,10):\n",
    "    if i == 5:\n",
    "        continue\n",
    "    print(i)\n",
    "    "
   ]
  },
  {
   "cell_type": "markdown",
   "id": "cd9a0efc",
   "metadata": {},
   "source": [
    "**We can see from the above output, the loop skips the iteration when the if condition is true. Thus when i = 5, because of the continue statement, it skips the rest of the code block below the if block and thus skips the iteration when i = 5 and moves to the next one.** "
   ]
  },
  {
   "cell_type": "markdown",
   "id": "24a19a66",
   "metadata": {},
   "source": [
    "## 5.) pass\n",
    "\n",
    "**The pass statement in Python is used when a statement is required syntactically but you do not want any command or code to execute. It is like null operation, as nothing will happen is it is executed. Pass statement can also be used for writing empty loops. Pass is also used for empty control statement, function and classes.**<br>\n",
    "\n",
    "**Pass statement is used to contruct a body that does nothing**"
   ]
  },
  {
   "cell_type": "code",
   "execution_count": 16,
   "id": "73c7480b",
   "metadata": {},
   "outputs": [
    {
     "name": "stdout",
     "output_type": "stream",
     "text": [
      "1\n",
      "2\n",
      "3\n",
      "4\n",
      "Pass Executed\n",
      "6\n",
      "6\n",
      "7\n",
      "8\n",
      "9\n"
     ]
    }
   ],
   "source": [
    "for i in range(1,10):\n",
    "    if i == 5:\n",
    "        pass\n",
    "        print(\"Pass Executed\")         #pass statement is like null operation, won't affect anything.\n",
    "        i = i + 1\n",
    "\n",
    "    print(i)"
   ]
  }
 ],
 "metadata": {
  "kernelspec": {
   "display_name": "Python 3",
   "language": "python",
   "name": "python3"
  },
  "language_info": {
   "codemirror_mode": {
    "name": "ipython",
    "version": 3
   },
   "file_extension": ".py",
   "mimetype": "text/x-python",
   "name": "python",
   "nbconvert_exporter": "python",
   "pygments_lexer": "ipython3",
   "version": "3.8.8"
  }
 },
 "nbformat": 4,
 "nbformat_minor": 5
}
