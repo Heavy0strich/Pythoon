{
 "cells": [
  {
   "cell_type": "markdown",
   "id": "361d398d",
   "metadata": {},
   "source": [
    "def func():\n",
    "    global a \n",
    "    a = 15\n",
    "    print(a)"
   ]
  },
  {
   "cell_type": "code",
   "execution_count": 3,
   "id": "946102fb",
   "metadata": {},
   "outputs": [
    {
     "name": "stdout",
     "output_type": "stream",
     "text": [
      "15\n",
      "15\n"
     ]
    }
   ],
   "source": [
    "func()\n",
    "print(a)"
   ]
  },
  {
   "cell_type": "markdown",
   "id": "406ecf41",
   "metadata": {},
   "source": [
    "# Arithematic Operators\n",
    "\n",
    "## 1. Addition Operator"
   ]
  },
  {
   "cell_type": "code",
   "execution_count": 30,
   "id": "17b92876",
   "metadata": {},
   "outputs": [
    {
     "data": {
      "text/plain": [
       "True"
      ]
     },
     "execution_count": 30,
     "metadata": {},
     "output_type": "execute_result"
    }
   ],
   "source": [
    "1 == 1"
   ]
  },
  {
   "cell_type": "code",
   "execution_count": 31,
   "id": "e5480ad6",
   "metadata": {},
   "outputs": [
    {
     "data": {
      "text/plain": [
       "False"
      ]
     },
     "execution_count": 31,
     "metadata": {},
     "output_type": "execute_result"
    }
   ],
   "source": [
    "x = 7\n",
    "y = 10\n",
    "x > y"
   ]
  },
  {
   "cell_type": "code",
   "execution_count": 32,
   "id": "30e435c2",
   "metadata": {},
   "outputs": [
    {
     "data": {
      "text/plain": [
       "False"
      ]
     },
     "execution_count": 32,
     "metadata": {},
     "output_type": "execute_result"
    }
   ],
   "source": [
    "c = 11\n",
    "x > y > c"
   ]
  },
  {
   "cell_type": "code",
   "execution_count": 33,
   "id": "de08e727",
   "metadata": {},
   "outputs": [
    {
     "data": {
      "text/plain": [
       "True"
      ]
     },
     "execution_count": 33,
     "metadata": {},
     "output_type": "execute_result"
    }
   ],
   "source": [
    "x < y < c"
   ]
  },
  {
   "cell_type": "code",
   "execution_count": 34,
   "id": "01de33df",
   "metadata": {},
   "outputs": [
    {
     "data": {
      "text/plain": [
       "True"
      ]
     },
     "execution_count": 34,
     "metadata": {},
     "output_type": "execute_result"
    }
   ],
   "source": [
    "x <= y <= c"
   ]
  },
  {
   "cell_type": "code",
   "execution_count": 35,
   "id": "b75bfb56",
   "metadata": {},
   "outputs": [
    {
     "data": {
      "text/plain": [
       "True"
      ]
     },
     "execution_count": 35,
     "metadata": {},
     "output_type": "execute_result"
    }
   ],
   "source": [
    "x!= y"
   ]
  },
  {
   "cell_type": "code",
   "execution_count": 36,
   "id": "64c86b03",
   "metadata": {},
   "outputs": [
    {
     "data": {
      "text/plain": [
       "True"
      ]
     },
     "execution_count": 36,
     "metadata": {},
     "output_type": "execute_result"
    }
   ],
   "source": [
    "x < y and x < c"
   ]
  },
  {
   "cell_type": "code",
   "execution_count": 37,
   "id": "b563d809",
   "metadata": {},
   "outputs": [
    {
     "data": {
      "text/plain": [
       "True"
      ]
     },
     "execution_count": 37,
     "metadata": {},
     "output_type": "execute_result"
    }
   ],
   "source": [
    "x < y or x > c"
   ]
  },
  {
   "cell_type": "code",
   "execution_count": 39,
   "id": "6ccb90f8",
   "metadata": {},
   "outputs": [
    {
     "data": {
      "text/plain": [
       "False"
      ]
     },
     "execution_count": 39,
     "metadata": {},
     "output_type": "execute_result"
    }
   ],
   "source": [
    "b = True\n",
    "not b"
   ]
  },
  {
   "cell_type": "markdown",
   "id": "e36e20d2",
   "metadata": {},
   "source": [
    "## Bitwise AND (&) operator\n",
    "\n",
    "#### Sets each bit to 1 if both bits are 1"
   ]
  },
  {
   "cell_type": "code",
   "execution_count": 44,
   "id": "9505b162",
   "metadata": {},
   "outputs": [
    {
     "data": {
      "text/plain": [
       "8"
      ]
     },
     "execution_count": 44,
     "metadata": {},
     "output_type": "execute_result"
    }
   ],
   "source": [
    "#10 = 1010  % Binary representation of 10\n",
    "#12 = 1100  % Binary representation of 12\n",
    "#8  = 1000  % Binary representation of 8\n",
    "10&12"
   ]
  },
  {
   "cell_type": "markdown",
   "id": "c6294c7f",
   "metadata": {},
   "source": [
    "# Bitwise OR ( | ) Operator\n",
    "\n",
    "#### Sets each bit to 1 if one of two bits is 1"
   ]
  },
  {
   "cell_type": "code",
   "execution_count": 43,
   "id": "0bbe7219",
   "metadata": {},
   "outputs": [
    {
     "data": {
      "text/plain": [
       "11"
      ]
     },
     "execution_count": 43,
     "metadata": {},
     "output_type": "execute_result"
    }
   ],
   "source": [
    "10|11"
   ]
  },
  {
   "cell_type": "code",
   "execution_count": 45,
   "id": "039012e8",
   "metadata": {},
   "outputs": [
    {
     "data": {
      "text/plain": [
       "121"
      ]
     },
     "execution_count": 45,
     "metadata": {},
     "output_type": "execute_result"
    }
   ],
   "source": [
    "11**2"
   ]
  },
  {
   "cell_type": "code",
   "execution_count": 46,
   "id": "c06f1f0a",
   "metadata": {},
   "outputs": [
    {
     "data": {
      "text/plain": [
       "14"
      ]
     },
     "execution_count": 46,
     "metadata": {},
     "output_type": "execute_result"
    }
   ],
   "source": [
    "12^2"
   ]
  },
  {
   "cell_type": "code",
   "execution_count": 47,
   "id": "4435366a",
   "metadata": {},
   "outputs": [
    {
     "data": {
      "text/plain": [
       "15"
      ]
     },
     "execution_count": 47,
     "metadata": {},
     "output_type": "execute_result"
    }
   ],
   "source": [
    "12^3"
   ]
  },
  {
   "cell_type": "code",
   "execution_count": 48,
   "id": "7a2fc6f5",
   "metadata": {},
   "outputs": [
    {
     "data": {
      "text/plain": [
       "6"
      ]
     },
     "execution_count": 48,
     "metadata": {},
     "output_type": "execute_result"
    }
   ],
   "source": [
    "12^10"
   ]
  },
  {
   "cell_type": "code",
   "execution_count": 49,
   "id": "839fa706",
   "metadata": {},
   "outputs": [
    {
     "data": {
      "text/plain": [
       "7"
      ]
     },
     "execution_count": 49,
     "metadata": {},
     "output_type": "execute_result"
    }
   ],
   "source": [
    "10 and 7"
   ]
  },
  {
   "cell_type": "code",
   "execution_count": 50,
   "id": "24ccf3cb",
   "metadata": {},
   "outputs": [
    {
     "data": {
      "text/plain": [
       "2"
      ]
     },
     "execution_count": 50,
     "metadata": {},
     "output_type": "execute_result"
    }
   ],
   "source": [
    "10&7"
   ]
  },
  {
   "cell_type": "code",
   "execution_count": 51,
   "id": "7a39bb3e",
   "metadata": {},
   "outputs": [
    {
     "data": {
      "text/plain": [
       "True"
      ]
     },
     "execution_count": 51,
     "metadata": {},
     "output_type": "execute_result"
    }
   ],
   "source": [
    "x = 21\n",
    "z = 21\n",
    "x is z"
   ]
  },
  {
   "cell_type": "code",
   "execution_count": 52,
   "id": "1e87a5da",
   "metadata": {},
   "outputs": [
    {
     "data": {
      "text/plain": [
       "False"
      ]
     },
     "execution_count": 52,
     "metadata": {},
     "output_type": "execute_result"
    }
   ],
   "source": [
    "y = 31\n",
    "x is y"
   ]
  },
  {
   "cell_type": "code",
   "execution_count": 53,
   "id": "3bb9e923",
   "metadata": {},
   "outputs": [
    {
     "data": {
      "text/plain": [
       "True"
      ]
     },
     "execution_count": 53,
     "metadata": {},
     "output_type": "execute_result"
    }
   ],
   "source": [
    "x is not y"
   ]
  },
  {
   "cell_type": "code",
   "execution_count": 54,
   "id": "6703eab4",
   "metadata": {},
   "outputs": [
    {
     "data": {
      "text/plain": [
       "False"
      ]
     },
     "execution_count": 54,
     "metadata": {},
     "output_type": "execute_result"
    }
   ],
   "source": [
    "x is not z"
   ]
  },
  {
   "cell_type": "code",
   "execution_count": 55,
   "id": "4bf2e3a3",
   "metadata": {},
   "outputs": [
    {
     "data": {
      "text/plain": [
       "True"
      ]
     },
     "execution_count": 55,
     "metadata": {},
     "output_type": "execute_result"
    }
   ],
   "source": [
    "x in range(30)"
   ]
  },
  {
   "cell_type": "code",
   "execution_count": 56,
   "id": "eeeba231",
   "metadata": {},
   "outputs": [
    {
     "data": {
      "text/plain": [
       "False"
      ]
     },
     "execution_count": 56,
     "metadata": {},
     "output_type": "execute_result"
    }
   ],
   "source": [
    "z not in range(30)"
   ]
  },
  {
   "cell_type": "code",
   "execution_count": 57,
   "id": "3e067534",
   "metadata": {},
   "outputs": [
    {
     "data": {
      "text/plain": [
       "True"
      ]
     },
     "execution_count": 57,
     "metadata": {},
     "output_type": "execute_result"
    }
   ],
   "source": [
    "y not in range(30)"
   ]
  },
  {
   "cell_type": "code",
   "execution_count": 58,
   "id": "170d56cd",
   "metadata": {},
   "outputs": [],
   "source": [
    "x = 358\n",
    "y = 23"
   ]
  },
  {
   "cell_type": "code",
   "execution_count": 59,
   "id": "1db89e16",
   "metadata": {},
   "outputs": [
    {
     "data": {
      "text/plain": [
       "15"
      ]
     },
     "execution_count": 59,
     "metadata": {},
     "output_type": "execute_result"
    }
   ],
   "source": [
    "x//y"
   ]
  },
  {
   "cell_type": "code",
   "execution_count": 60,
   "id": "ddf6438f",
   "metadata": {},
   "outputs": [
    {
     "data": {
      "text/plain": [
       "13"
      ]
     },
     "execution_count": 60,
     "metadata": {},
     "output_type": "execute_result"
    }
   ],
   "source": [
    "x%y"
   ]
  },
  {
   "cell_type": "code",
   "execution_count": 61,
   "id": "50a329d5",
   "metadata": {},
   "outputs": [],
   "source": [
    "a = 5\n",
    "b = 10"
   ]
  },
  {
   "cell_type": "code",
   "execution_count": 62,
   "id": "8e2646b5",
   "metadata": {},
   "outputs": [
    {
     "data": {
      "text/plain": [
       "15"
      ]
     },
     "execution_count": 62,
     "metadata": {},
     "output_type": "execute_result"
    }
   ],
   "source": [
    "a|b"
   ]
  },
  {
   "cell_type": "code",
   "execution_count": 63,
   "id": "a9db758a",
   "metadata": {},
   "outputs": [
    {
     "data": {
      "text/plain": [
       "320"
      ]
     },
     "execution_count": 63,
     "metadata": {},
     "output_type": "execute_result"
    }
   ],
   "source": [
    "b<<a"
   ]
  },
  {
   "cell_type": "code",
   "execution_count": 64,
   "id": "d8218b51",
   "metadata": {},
   "outputs": [
    {
     "ename": "SyntaxError",
     "evalue": "invalid syntax (<ipython-input-64-78e953e25767>, line 1)",
     "output_type": "error",
     "traceback": [
      "\u001b[0;36m  File \u001b[0;32m\"<ipython-input-64-78e953e25767>\"\u001b[0;36m, line \u001b[0;32m1\u001b[0m\n\u001b[0;31m    a = b+ = 5\u001b[0m\n\u001b[0m           ^\u001b[0m\n\u001b[0;31mSyntaxError\u001b[0m\u001b[0;31m:\u001b[0m invalid syntax\n"
     ]
    }
   ],
   "source": [
    "a = b+ = 5"
   ]
  },
  {
   "cell_type": "code",
   "execution_count": 65,
   "id": "5b6865ec",
   "metadata": {},
   "outputs": [],
   "source": [
    "b += 5\n",
    "a = b"
   ]
  },
  {
   "cell_type": "code",
   "execution_count": 66,
   "id": "f7350e13",
   "metadata": {},
   "outputs": [
    {
     "data": {
      "text/plain": [
       "15"
      ]
     },
     "execution_count": 66,
     "metadata": {},
     "output_type": "execute_result"
    }
   ],
   "source": [
    "a"
   ]
  },
  {
   "cell_type": "markdown",
   "id": "22c9d265",
   "metadata": {},
   "source": [
    "# # String methods"
   ]
  },
  {
   "cell_type": "markdown",
   "id": "1b9e0f69",
   "metadata": {},
   "source": [
    "### 1. Capitalize() -  returns string starting first character to upppercase and rest to lowercase"
   ]
  },
  {
   "cell_type": "code",
   "execution_count": 5,
   "id": "ef43e985",
   "metadata": {},
   "outputs": [
    {
     "data": {
      "text/plain": [
       "'Nollywood'"
      ]
     },
     "execution_count": 5,
     "metadata": {},
     "output_type": "execute_result"
    }
   ],
   "source": [
    "s = 'noLlywood'\n",
    "s.capitalize()"
   ]
  },
  {
   "cell_type": "markdown",
   "id": "3da55a0a",
   "metadata": {},
   "source": [
    "### 2. lower() function which returns the string after converting all the characters to lowercase"
   ]
  },
  {
   "cell_type": "code",
   "execution_count": 6,
   "id": "62ee7d72",
   "metadata": {},
   "outputs": [
    {
     "data": {
      "text/plain": [
       "'nollywood'"
      ]
     },
     "execution_count": 6,
     "metadata": {},
     "output_type": "execute_result"
    }
   ],
   "source": [
    "s.lower()\n"
   ]
  },
  {
   "cell_type": "markdown",
   "id": "739ed831",
   "metadata": {},
   "source": [
    "### 3. upper() function which returns the string after coverting all the characters to uppercase"
   ]
  },
  {
   "cell_type": "code",
   "execution_count": 7,
   "id": "65a2b4b7",
   "metadata": {},
   "outputs": [
    {
     "data": {
      "text/plain": [
       "'NOLLYWOOD'"
      ]
     },
     "execution_count": 7,
     "metadata": {},
     "output_type": "execute_result"
    }
   ],
   "source": [
    "s.upper()"
   ]
  },
  {
   "cell_type": "markdown",
   "id": "cb3eb31a",
   "metadata": {},
   "source": [
    "### 4. join() function which returns the string after concatenating elements of the string with a separator, converts a list of string into a single string"
   ]
  },
  {
   "cell_type": "code",
   "execution_count": 10,
   "id": "f89a3d96",
   "metadata": {},
   "outputs": [
    {
     "name": "stdout",
     "output_type": "stream",
     "text": [
      "helloRamlalji\n"
     ]
    }
   ],
   "source": [
    "s1 = ['hello','Ramlal', 'ji']\n",
    "x = \"\".join(s1)\n",
    "print(x)"
   ]
  },
  {
   "cell_type": "code",
   "execution_count": 11,
   "id": "d55b2007",
   "metadata": {},
   "outputs": [
    {
     "name": "stdout",
     "output_type": "stream",
     "text": [
      "hello Ramlal ji\n"
     ]
    }
   ],
   "source": [
    "s1 = ['hello','Ramlal', 'ji']\n",
    "x = \" \".join(s1)\n",
    "print(x)"
   ]
  },
  {
   "cell_type": "markdown",
   "id": "58d86656",
   "metadata": {},
   "source": [
    "### 5. len(), returns length of the string"
   ]
  },
  {
   "cell_type": "code",
   "execution_count": 12,
   "id": "f59def52",
   "metadata": {},
   "outputs": [
    {
     "data": {
      "text/plain": [
       "15"
      ]
     },
     "execution_count": 12,
     "metadata": {},
     "output_type": "execute_result"
    }
   ],
   "source": [
    "len(x)"
   ]
  },
  {
   "cell_type": "markdown",
   "id": "e6215451",
   "metadata": {},
   "source": [
    "### 6. count() return number of occurences of a substring"
   ]
  },
  {
   "cell_type": "code",
   "execution_count": 17,
   "id": "ebd0c3d2",
   "metadata": {},
   "outputs": [
    {
     "data": {
      "text/plain": [
       "1"
      ]
     },
     "execution_count": 17,
     "metadata": {},
     "output_type": "execute_result"
    }
   ],
   "source": [
    "x.count('Ram')"
   ]
  },
  {
   "cell_type": "markdown",
   "id": "ba5b5610",
   "metadata": {},
   "source": [
    "### 7. find() function which returns the index of the substring if it is found else returns -1 (space is also counted as a character"
   ]
  },
  {
   "cell_type": "code",
   "execution_count": 19,
   "id": "c638a9d9",
   "metadata": {},
   "outputs": [
    {
     "data": {
      "text/plain": [
       "14"
      ]
     },
     "execution_count": 19,
     "metadata": {},
     "output_type": "execute_result"
    }
   ],
   "source": [
    "x.find('i')"
   ]
  },
  {
   "cell_type": "code",
   "execution_count": 20,
   "id": "2c7b906b",
   "metadata": {},
   "outputs": [
    {
     "data": {
      "text/plain": [
       "-1"
      ]
     },
     "execution_count": 20,
     "metadata": {},
     "output_type": "execute_result"
    }
   ],
   "source": [
    "x.find('n')"
   ]
  },
  {
   "cell_type": "markdown",
   "id": "20042f20",
   "metadata": {},
   "source": [
    "### 8. islower() and isupper() checks whether the charactures are uppercase or lowercase, output is either true or false"
   ]
  },
  {
   "cell_type": "code",
   "execution_count": 27,
   "id": "768eff39",
   "metadata": {},
   "outputs": [
    {
     "data": {
      "text/plain": [
       "True"
      ]
     },
     "execution_count": 27,
     "metadata": {},
     "output_type": "execute_result"
    }
   ],
   "source": [
    "a = \"HALKAT\"\n",
    "a.isupper()"
   ]
  },
  {
   "cell_type": "code",
   "execution_count": 28,
   "id": "df9d6393",
   "metadata": {},
   "outputs": [
    {
     "data": {
      "text/plain": [
       "True"
      ]
     },
     "execution_count": 28,
     "metadata": {},
     "output_type": "execute_result"
    }
   ],
   "source": [
    "b = \"chal be!\"\n",
    "b.islower()"
   ]
  },
  {
   "cell_type": "markdown",
   "id": "7c705693",
   "metadata": {},
   "source": [
    "### 9. split() breaks the string when encounters a string separator, returns a list of string"
   ]
  },
  {
   "cell_type": "code",
   "execution_count": 29,
   "id": "c36844a9",
   "metadata": {},
   "outputs": [
    {
     "data": {
      "text/plain": [
       "['chal', 'be!']"
      ]
     },
     "execution_count": 29,
     "metadata": {},
     "output_type": "execute_result"
    }
   ],
   "source": [
    "b.split(\" \")"
   ]
  },
  {
   "cell_type": "markdown",
   "id": "621c2220",
   "metadata": {},
   "source": [
    "### strip() functions removes blanks from the start and end of the string."
   ]
  },
  {
   "cell_type": "code",
   "execution_count": 30,
   "id": "d7631b4e",
   "metadata": {},
   "outputs": [
    {
     "data": {
      "text/plain": [
       "'hey there Tom'"
      ]
     },
     "execution_count": 30,
     "metadata": {},
     "output_type": "execute_result"
    }
   ],
   "source": [
    "c = \" hey there Tom  \"\n",
    "c.strip()"
   ]
  },
  {
   "cell_type": "markdown",
   "id": "91881182",
   "metadata": {},
   "source": [
    "### input() function takes input from the user and evaluates it. but the input is strored as string data type"
   ]
  },
  {
   "cell_type": "code",
   "execution_count": 31,
   "id": "d016e51d",
   "metadata": {},
   "outputs": [
    {
     "name": "stdout",
     "output_type": "stream",
     "text": [
      "assjs\n"
     ]
    }
   ],
   "source": [
    "x  = input()"
   ]
  },
  {
   "cell_type": "code",
   "execution_count": 32,
   "id": "1cbcf8f9",
   "metadata": {},
   "outputs": [
    {
     "name": "stdout",
     "output_type": "stream",
     "text": [
      "assjs\n"
     ]
    }
   ],
   "source": [
    "print(x)"
   ]
  },
  {
   "cell_type": "code",
   "execution_count": 34,
   "id": "78b3fffc",
   "metadata": {},
   "outputs": [
    {
     "data": {
      "text/plain": [
       "False"
      ]
     },
     "execution_count": 34,
     "metadata": {},
     "output_type": "execute_result"
    }
   ],
   "source": [
    "'hello' == 'ello'"
   ]
  },
  {
   "cell_type": "code",
   "execution_count": null,
   "id": "8a7544eb",
   "metadata": {},
   "outputs": [],
   "source": []
  }
 ],
 "metadata": {
  "kernelspec": {
   "display_name": "Python 3",
   "language": "python",
   "name": "python3"
  },
  "language_info": {
   "codemirror_mode": {
    "name": "ipython",
    "version": 3
   },
   "file_extension": ".py",
   "mimetype": "text/x-python",
   "name": "python",
   "nbconvert_exporter": "python",
   "pygments_lexer": "ipython3",
   "version": "3.8.8"
  }
 },
 "nbformat": 4,
 "nbformat_minor": 5
}
